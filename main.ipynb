{
 "cells": [
  {
   "cell_type": "code",
   "execution_count": 29,
   "metadata": {},
   "outputs": [],
   "source": [
    "import polars as pl\n",
    "import json\n",
    "import os"
   ]
  },
  {
   "cell_type": "markdown",
   "metadata": {},
   "source": [
    "### Function to load model parameter and datasets\n"
   ]
  },
  {
   "cell_type": "code",
   "execution_count": 30,
   "metadata": {},
   "outputs": [],
   "source": [
    "def load_model_and_data(model_filename='model_params.json', data_filename='dataset.csv'):\n",
    "    with open(model_filename, 'r') as f:\n",
    "        model_params = json.load(f)\n",
    "\n",
    "    # Load dataset from a CSV file\n",
    "    df_loaded = pl.read_csv(data_filename)\n",
    "    return model_params['slope'], model_params['intercept'], df_loaded"
   ]
  },
  {
   "cell_type": "markdown",
   "metadata": {},
   "source": [
    "### Function to calculate coefficients from loaded dataset\n"
   ]
  },
  {
   "cell_type": "code",
   "execution_count": 31,
   "metadata": {},
   "outputs": [],
   "source": [
    "def calculate_coefficients(df):\n",
    "    mean_size = df['size'].mean()\n",
    "    mean_price = df['price'].mean()\n",
    "\n",
    "    sizes = df['size'].to_list()\n",
    "    prices = df['price'].to_list()\n",
    "\n",
    "    numerator = sum((sizes[i] - mean_size) * (prices[i] - mean_price)\n",
    "                    for i in range(len(sizes)))\n",
    "    denominator = sum((sizes[i] - mean_size) ** 2 for i in range(len(sizes)))\n",
    "\n",
    "    m = numerator / denominator  # slope\n",
    "    b = mean_price - m * mean_size  # intercept\n",
    "    return m, b"
   ]
  },
  {
   "cell_type": "markdown",
   "metadata": {},
   "source": [
    "### Function to save model parameters and dataset\n"
   ]
  },
  {
   "cell_type": "code",
   "execution_count": 32,
   "metadata": {},
   "outputs": [],
   "source": [
    "def save_model_and_data(m, b, df, model_filename='model_params.json', data_filename='dataset.csv'):\n",
    "    model_params = {\n",
    "        \"slope\": m,\n",
    "        \"intercept\": b\n",
    "    }\n",
    "    # Save model parameters to a JSON file\n",
    "    with open(model_filename, 'w') as f:\n",
    "        json.dump(model_params, f)\n",
    "\n",
    "    # Save dataset to a CSV file\n",
    "    df.write_csv(data_filename)"
   ]
  },
  {
   "cell_type": "markdown",
   "metadata": {},
   "source": [
    "### Function to make predictions\n"
   ]
  },
  {
   "cell_type": "code",
   "execution_count": 33,
   "metadata": {},
   "outputs": [],
   "source": [
    "def predict(size, m, b):\n",
    "    return m * size + b"
   ]
  },
  {
   "cell_type": "markdown",
   "metadata": {},
   "source": [
    "### Load the model parameters and dataset\n"
   ]
  },
  {
   "cell_type": "code",
   "execution_count": 34,
   "metadata": {},
   "outputs": [
    {
     "name": "stdout",
     "output_type": "stream",
     "text": [
      "Slope: 100.00107443233533, Intercept: 50001.74918541085\n"
     ]
    },
    {
     "data": {
      "text/html": [
       "<div><style>\n",
       ".dataframe > thead > tr,\n",
       ".dataframe > tbody > tr {\n",
       "  text-align: right;\n",
       "  white-space: pre-wrap;\n",
       "}\n",
       "</style>\n",
       "<small>shape: (10, 2)</small><table border=\"1\" class=\"dataframe\"><thead><tr><th>size</th><th>price</th></tr><tr><td>i64</td><td>f64</td></tr></thead><tbody><tr><td>2000</td><td>250000.0</td></tr><tr><td>2500</td><td>300000.0</td></tr><tr><td>3000</td><td>350000.0</td></tr><tr><td>3300</td><td>380000.0</td></tr><tr><td>2750</td><td>325000.0</td></tr><tr><td>2389</td><td>288900.0</td></tr><tr><td>9291</td><td>979100.0</td></tr><tr><td>598</td><td>109800.0</td></tr><tr><td>4023</td><td>452354.0</td></tr><tr><td>1200</td><td>170003.038504</td></tr></tbody></table></div>"
      ],
      "text/plain": [
       "shape: (10, 2)\n",
       "┌──────┬───────────────┐\n",
       "│ size ┆ price         │\n",
       "│ ---  ┆ ---           │\n",
       "│ i64  ┆ f64           │\n",
       "╞══════╪═══════════════╡\n",
       "│ 2000 ┆ 250000.0      │\n",
       "│ 2500 ┆ 300000.0      │\n",
       "│ 3000 ┆ 350000.0      │\n",
       "│ 3300 ┆ 380000.0      │\n",
       "│ 2750 ┆ 325000.0      │\n",
       "│ 2389 ┆ 288900.0      │\n",
       "│ 9291 ┆ 979100.0      │\n",
       "│ 598  ┆ 109800.0      │\n",
       "│ 4023 ┆ 452354.0      │\n",
       "│ 1200 ┆ 170003.038504 │\n",
       "└──────┴───────────────┘"
      ]
     },
     "metadata": {},
     "output_type": "display_data"
    }
   ],
   "source": [
    "# Model and dataset files path\n",
    "model_filename = 'model_params.json'\n",
    "data_filename = 'dataset.csv'\n",
    "\n",
    "# Load the model parameters and dataset if files exist, otherwise initialize a new dataset\n",
    "if os.path.exists(model_filename) and os.path.exists(data_filename):\n",
    "    loaded_m, loaded_b, df_loaded = load_model_and_data(\n",
    "        model_filename, data_filename)\n",
    "else:\n",
    "    # Sample data: [size in square feet, price]\n",
    "    data = {\n",
    "        \"size\": [1000, 1500, 2000, 2500, 3000],\n",
    "        # Use float values for prices\n",
    "        \"price\": [150000.0, 200000.0, 250000.0, 300000.0, 350000.0]\n",
    "    }\n",
    "\n",
    "    # Create a Polars DataFrame with explicit types\n",
    "    df_loaded = pl.DataFrame(data).with_columns([\n",
    "        pl.col(\"size\").cast(pl.Int64),\n",
    "        pl.col(\"price\").cast(pl.Float64)\n",
    "    ])\n",
    "    loaded_m, loaded_b = calculate_coefficients(df_loaded)\n",
    "\n",
    "# Show loaded or calculated model parameters and dataset\n",
    "print(f\"Slope: {loaded_m}, Intercept: {loaded_b}\")\n",
    "display(df_loaded.tail(10))"
   ]
  },
  {
   "cell_type": "markdown",
   "metadata": {},
   "source": [
    "### Main loop for user input\n"
   ]
  },
  {
   "cell_type": "code",
   "execution_count": 35,
   "metadata": {},
   "outputs": [
    {
     "name": "stdout",
     "output_type": "stream",
     "text": [
      "Predicted price for a house of size 6520.0 sqft is: $702008.75\n"
     ]
    }
   ],
   "source": [
    "while True:\n",
    "    # Get user input for size\n",
    "    user_input = input(\n",
    "        \"Enter the size of the house in sqft (or 'exit' to quit): \")\n",
    "\n",
    "    if user_input.lower() == 'exit':\n",
    "        break\n",
    "\n",
    "    try:\n",
    "        size = float(user_input)  # Convert input to float\n",
    "    except ValueError:\n",
    "        print(\"Invalid input. Please enter a valid number.\")\n",
    "        continue\n",
    "\n",
    "    # Check if size exists in the dataset\n",
    "    if size in df_loaded['size'].to_list():\n",
    "        # If the size exists, retrieve the corresponding price\n",
    "        price = df_loaded.filter(pl.col(\"size\") == size)['price'].to_numpy()[0]\n",
    "        print(f\"The price for a house of size {size} sqft is: ${price:.2f}\")\n",
    "    else:\n",
    "        # If not, predict the price and append to the dataset\n",
    "        predicted_price = predict(size, loaded_m, loaded_b)\n",
    "        print(f\"Predicted price for a house of size {\n",
    "              size} sqft is: ${predicted_price:.2f}\")\n",
    "\n",
    "        # Append new size and predicted price to the dataset with explicit types\n",
    "        new_data = pl.DataFrame(\n",
    "            {\"size\": [int(size)], \"price\": [predicted_price]})\n",
    "        df_loaded = df_loaded.vstack(new_data)\n",
    "\n",
    "        # Recalculate coefficients after adding new data\n",
    "        loaded_m, loaded_b = calculate_coefficients(df_loaded)\n",
    "\n",
    "        # Save the updated model parameters and dataset\n",
    "        save_model_and_data(loaded_m, loaded_b, df_loaded)"
   ]
  }
 ],
 "metadata": {
  "kernelspec": {
   "display_name": ".venv",
   "language": "python",
   "name": "python3"
  },
  "language_info": {
   "codemirror_mode": {
    "name": "ipython",
    "version": 3
   },
   "file_extension": ".py",
   "mimetype": "text/x-python",
   "name": "python",
   "nbconvert_exporter": "python",
   "pygments_lexer": "ipython3",
   "version": "3.12.3"
  }
 },
 "nbformat": 4,
 "nbformat_minor": 2
}

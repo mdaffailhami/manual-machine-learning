{
 "cells": [
  {
   "cell_type": "code",
   "execution_count": 66,
   "metadata": {},
   "outputs": [],
   "source": [
    "from random import shuffle\n",
    "import polars as pl\n",
    "import altair as alt"
   ]
  },
  {
   "cell_type": "markdown",
   "metadata": {},
   "source": [
    "### Prepare dataset\n"
   ]
  },
  {
   "cell_type": "code",
   "execution_count": 67,
   "metadata": {},
   "outputs": [
    {
     "data": {
      "text/html": [
       "<div><style>\n",
       ".dataframe > thead > tr,\n",
       ".dataframe > tbody > tr {\n",
       "  text-align: right;\n",
       "  white-space: pre-wrap;\n",
       "}\n",
       "</style>\n",
       "<small>shape: (75, 2)</small><table border=\"1\" class=\"dataframe\"><thead><tr><th>height</th><th>weight</th></tr><tr><td>i64</td><td>i64</td></tr></thead><tbody><tr><td>170</td><td>69</td></tr><tr><td>162</td><td>54</td></tr><tr><td>177</td><td>73</td></tr><tr><td>163</td><td>55</td></tr><tr><td>178</td><td>72</td></tr><tr><td>&hellip;</td><td>&hellip;</td></tr><tr><td>160</td><td>53</td></tr><tr><td>171</td><td>65</td></tr><tr><td>170</td><td>65</td></tr><tr><td>169</td><td>65</td></tr><tr><td>172</td><td>69</td></tr></tbody></table></div>"
      ],
      "text/plain": [
       "shape: (75, 2)\n",
       "┌────────┬────────┐\n",
       "│ height ┆ weight │\n",
       "│ ---    ┆ ---    │\n",
       "│ i64    ┆ i64    │\n",
       "╞════════╪════════╡\n",
       "│ 170    ┆ 69     │\n",
       "│ 162    ┆ 54     │\n",
       "│ 177    ┆ 73     │\n",
       "│ 163    ┆ 55     │\n",
       "│ 178    ┆ 72     │\n",
       "│ …      ┆ …      │\n",
       "│ 160    ┆ 53     │\n",
       "│ 171    ┆ 65     │\n",
       "│ 170    ┆ 65     │\n",
       "│ 169    ┆ 65     │\n",
       "│ 172    ┆ 69     │\n",
       "└────────┴────────┘"
      ]
     },
     "metadata": {},
     "output_type": "display_data"
    },
    {
     "data": {
      "text/html": [
       "<div><style>\n",
       ".dataframe > thead > tr,\n",
       ".dataframe > tbody > tr {\n",
       "  text-align: right;\n",
       "  white-space: pre-wrap;\n",
       "}\n",
       "</style>\n",
       "<small>shape: (25, 2)</small><table border=\"1\" class=\"dataframe\"><thead><tr><th>height</th><th>weight</th></tr><tr><td>i64</td><td>i64</td></tr></thead><tbody><tr><td>178</td><td>74</td></tr><tr><td>176</td><td>74</td></tr><tr><td>172</td><td>67</td></tr><tr><td>182</td><td>85</td></tr><tr><td>170</td><td>66</td></tr><tr><td>&hellip;</td><td>&hellip;</td></tr><tr><td>173</td><td>71</td></tr><tr><td>175</td><td>75</td></tr><tr><td>171</td><td>70</td></tr><tr><td>176</td><td>72</td></tr><tr><td>159</td><td>51</td></tr></tbody></table></div>"
      ],
      "text/plain": [
       "shape: (25, 2)\n",
       "┌────────┬────────┐\n",
       "│ height ┆ weight │\n",
       "│ ---    ┆ ---    │\n",
       "│ i64    ┆ i64    │\n",
       "╞════════╪════════╡\n",
       "│ 178    ┆ 74     │\n",
       "│ 176    ┆ 74     │\n",
       "│ 172    ┆ 67     │\n",
       "│ 182    ┆ 85     │\n",
       "│ 170    ┆ 66     │\n",
       "│ …      ┆ …      │\n",
       "│ 173    ┆ 71     │\n",
       "│ 175    ┆ 75     │\n",
       "│ 171    ┆ 70     │\n",
       "│ 176    ┆ 72     │\n",
       "│ 159    ┆ 51     │\n",
       "└────────┴────────┘"
      ]
     },
     "metadata": {},
     "output_type": "display_data"
    }
   ],
   "source": [
    "data = [\n",
    "    (165, 60), (170, 65), (175, 75), (160, 50), (180, 80),\n",
    "    (172, 68), (178, 72), (155, 48), (168, 58), (177, 70),\n",
    "    (169, 64), (176, 78), (182, 85), (163, 55), (173, 69),\n",
    "    (171, 66), (159, 52), (174, 74), (167, 62), (179, 78),\n",
    "    (164, 57), (161, 53), (166, 59), (162, 54), (158, 50),\n",
    "    (174, 77), (168, 63), (177, 73), (165, 61), (172, 70),\n",
    "    (176, 76), (180, 82), (159, 49), (173, 67), (178, 74),\n",
    "    (182, 88), (170, 66), (175, 79), (169, 65), (160, 54),\n",
    "    (164, 56), (162, 52), (166, 60), (180, 83), (170, 68),\n",
    "    (157, 45), (161, 58), (175, 75), (171, 64), (177, 72),\n",
    "    (179, 81), (174, 78), (163, 59), (168, 62), (165, 66),\n",
    "    (164, 61), (172, 69), (176, 76), (158, 48), (169, 64),\n",
    "    (171, 70), (174, 74), (167, 65), (180, 82), (165, 63),\n",
    "    (178, 79), (159, 55), (162, 57), (169, 67), (173, 71),\n",
    "    (166, 60), (157, 50), (164, 62), (172, 74), (176, 77),\n",
    "    (180, 81), (161, 56), (175, 72), (170, 69), (178, 78),\n",
    "    (165, 64), (159, 52), (173, 70), (167, 63), (172, 67),\n",
    "    (180, 86), (176, 74), (164, 58), (170, 68), (167, 66),\n",
    "    (171, 65), (160, 53), (178, 82), (182, 85), (159, 51),\n",
    "    (163, 55), (166, 61), (165, 59), (176, 72), (171, 73),\n",
    "    # (177, 77), (173, 68), (174, 76), (170, 66), (161, 58),\n",
    "    # (162, 54), (168, 60), (164, 59), (177, 80), (175, 73)\n",
    "]\n",
    "\n",
    "shuffle(data)\n",
    "\n",
    "train_data_length = round(len(data) * 0.75)\n",
    "\n",
    "train_data = data[:train_data_length]\n",
    "test_data = data[train_data_length:]\n",
    "\n",
    "train_df = pl.DataFrame(\n",
    "    data=train_data,\n",
    "    schema=['height', 'weight'],\n",
    "    orient='row'\n",
    ")\n",
    "\n",
    "test_df = pl.DataFrame(\n",
    "    data=test_data,\n",
    "    schema=['height', 'weight'],\n",
    "    orient='row'\n",
    ")\n",
    "\n",
    "display(train_df)\n",
    "display(test_df)"
   ]
  },
  {
   "cell_type": "markdown",
   "metadata": {},
   "source": [
    "### Calculate weight prediction\n"
   ]
  },
  {
   "cell_type": "code",
   "execution_count": 68,
   "metadata": {},
   "outputs": [
    {
     "data": {
      "text/html": [
       "<div><style>\n",
       ".dataframe > thead > tr,\n",
       ".dataframe > tbody > tr {\n",
       "  text-align: right;\n",
       "  white-space: pre-wrap;\n",
       "}\n",
       "</style>\n",
       "<small>shape: (25, 3)</small><table border=\"1\" class=\"dataframe\"><thead><tr><th>height</th><th>weight</th><th>weight_prediction</th></tr><tr><td>i64</td><td>i64</td><td>f64</td></tr></thead><tbody><tr><td>178</td><td>74</td><td>78.511687</td></tr><tr><td>176</td><td>74</td><td>75.640552</td></tr><tr><td>172</td><td>67</td><td>69.898283</td></tr><tr><td>182</td><td>85</td><td>84.253957</td></tr><tr><td>170</td><td>66</td><td>67.027148</td></tr><tr><td>&hellip;</td><td>&hellip;</td><td>&hellip;</td></tr><tr><td>173</td><td>71</td><td>71.33385</td></tr><tr><td>175</td><td>75</td><td>74.204985</td></tr><tr><td>171</td><td>70</td><td>68.462715</td></tr><tr><td>176</td><td>72</td><td>75.640552</td></tr><tr><td>159</td><td>51</td><td>51.235907</td></tr></tbody></table></div>"
      ],
      "text/plain": [
       "shape: (25, 3)\n",
       "┌────────┬────────┬───────────────────┐\n",
       "│ height ┆ weight ┆ weight_prediction │\n",
       "│ ---    ┆ ---    ┆ ---               │\n",
       "│ i64    ┆ i64    ┆ f64               │\n",
       "╞════════╪════════╪═══════════════════╡\n",
       "│ 178    ┆ 74     ┆ 78.511687         │\n",
       "│ 176    ┆ 74     ┆ 75.640552         │\n",
       "│ 172    ┆ 67     ┆ 69.898283         │\n",
       "│ 182    ┆ 85     ┆ 84.253957         │\n",
       "│ 170    ┆ 66     ┆ 67.027148         │\n",
       "│ …      ┆ …      ┆ …                 │\n",
       "│ 173    ┆ 71     ┆ 71.33385          │\n",
       "│ 175    ┆ 75     ┆ 74.204985         │\n",
       "│ 171    ┆ 70     ┆ 68.462715         │\n",
       "│ 176    ┆ 72     ┆ 75.640552         │\n",
       "│ 159    ┆ 51     ┆ 51.235907         │\n",
       "└────────┴────────┴───────────────────┘"
      ]
     },
     "execution_count": 68,
     "metadata": {},
     "output_type": "execute_result"
    }
   ],
   "source": [
    "height_mean = train_df['height'].mean()\n",
    "weight_mean = train_df['weight'].mean()\n",
    "\n",
    "numerator = ((train_df['height'] - height_mean) *\n",
    "             (train_df['weight'] - weight_mean)).sum()\n",
    "denominator = ((train_df['height'] - height_mean) ** 2).sum()\n",
    "\n",
    "slope = numerator / denominator\n",
    "intercept = weight_mean - slope * height_mean\n",
    "\n",
    "test_df = test_df.with_columns([\n",
    "    (slope * pl.col('height') + intercept).alias('weight_prediction')\n",
    "])\n",
    "\n",
    "test_df"
   ]
  },
  {
   "cell_type": "markdown",
   "metadata": {},
   "source": [
    "### Visualize linear regression\n"
   ]
  },
  {
   "cell_type": "code",
   "execution_count": 69,
   "metadata": {},
   "outputs": [
    {
     "data": {
      "text/html": [
       "\n",
       "<style>\n",
       "  #altair-viz-a256b31029a447c790bd72ccf590d3f3.vega-embed {\n",
       "    width: 100%;\n",
       "    display: flex;\n",
       "  }\n",
       "\n",
       "  #altair-viz-a256b31029a447c790bd72ccf590d3f3.vega-embed details,\n",
       "  #altair-viz-a256b31029a447c790bd72ccf590d3f3.vega-embed details summary {\n",
       "    position: relative;\n",
       "  }\n",
       "</style>\n",
       "<div id=\"altair-viz-a256b31029a447c790bd72ccf590d3f3\"></div>\n",
       "<script type=\"text/javascript\">\n",
       "  var VEGA_DEBUG = (typeof VEGA_DEBUG == \"undefined\") ? {} : VEGA_DEBUG;\n",
       "  (function(spec, embedOpt){\n",
       "    let outputDiv = document.currentScript.previousElementSibling;\n",
       "    if (outputDiv.id !== \"altair-viz-a256b31029a447c790bd72ccf590d3f3\") {\n",
       "      outputDiv = document.getElementById(\"altair-viz-a256b31029a447c790bd72ccf590d3f3\");\n",
       "    }\n",
       "    const paths = {\n",
       "      \"vega\": \"https://cdn.jsdelivr.net/npm/vega@5?noext\",\n",
       "      \"vega-lib\": \"https://cdn.jsdelivr.net/npm/vega-lib?noext\",\n",
       "      \"vega-lite\": \"https://cdn.jsdelivr.net/npm/vega-lite@5.20.1?noext\",\n",
       "      \"vega-embed\": \"https://cdn.jsdelivr.net/npm/vega-embed@6?noext\",\n",
       "    };\n",
       "\n",
       "    function maybeLoadScript(lib, version) {\n",
       "      var key = `${lib.replace(\"-\", \"\")}_version`;\n",
       "      return (VEGA_DEBUG[key] == version) ?\n",
       "        Promise.resolve(paths[lib]) :\n",
       "        new Promise(function(resolve, reject) {\n",
       "          var s = document.createElement('script');\n",
       "          document.getElementsByTagName(\"head\")[0].appendChild(s);\n",
       "          s.async = true;\n",
       "          s.onload = () => {\n",
       "            VEGA_DEBUG[key] = version;\n",
       "            return resolve(paths[lib]);\n",
       "          };\n",
       "          s.onerror = () => reject(`Error loading script: ${paths[lib]}`);\n",
       "          s.src = paths[lib];\n",
       "        });\n",
       "    }\n",
       "\n",
       "    function showError(err) {\n",
       "      outputDiv.innerHTML = `<div class=\"error\" style=\"color:red;\">${err}</div>`;\n",
       "      throw err;\n",
       "    }\n",
       "\n",
       "    function displayChart(vegaEmbed) {\n",
       "      vegaEmbed(outputDiv, spec, embedOpt)\n",
       "        .catch(err => showError(`Javascript Error: ${err.message}<br>This usually means there's a typo in your chart specification. See the javascript console for the full traceback.`));\n",
       "    }\n",
       "\n",
       "    if(typeof define === \"function\" && define.amd) {\n",
       "      requirejs.config({paths});\n",
       "      require([\"vega-embed\"], displayChart, err => showError(`Error loading script: ${err.message}`));\n",
       "    } else {\n",
       "      maybeLoadScript(\"vega\", \"5\")\n",
       "        .then(() => maybeLoadScript(\"vega-lite\", \"5.20.1\"))\n",
       "        .then(() => maybeLoadScript(\"vega-embed\", \"6\"))\n",
       "        .catch(showError)\n",
       "        .then(() => displayChart(vegaEmbed));\n",
       "    }\n",
       "  })({\"config\": {\"view\": {\"continuousWidth\": 300, \"continuousHeight\": 300}}, \"layer\": [{\"mark\": {\"type\": \"point\", \"color\": \"blue\"}, \"encoding\": {\"tooltip\": [{\"field\": \"height\", \"type\": \"quantitative\"}, {\"field\": \"weight\", \"type\": \"quantitative\"}], \"x\": {\"field\": \"height\", \"type\": \"quantitative\"}, \"y\": {\"field\": \"weight\", \"type\": \"quantitative\"}}, \"name\": \"view_18\"}, {\"mark\": {\"type\": \"line\", \"color\": \"red\"}, \"encoding\": {\"tooltip\": [{\"field\": \"height\", \"type\": \"quantitative\"}, {\"field\": \"weight_prediction\", \"type\": \"quantitative\"}], \"x\": {\"field\": \"height\", \"type\": \"quantitative\"}, \"y\": {\"field\": \"weight_prediction\", \"title\": \"Weight\", \"type\": \"quantitative\"}}}], \"data\": {\"name\": \"data-ee68dd45624308c7cdb8437ec63ac9f2\"}, \"params\": [{\"name\": \"param_18\", \"select\": {\"type\": \"interval\", \"encodings\": [\"x\", \"y\"]}, \"bind\": \"scales\", \"views\": [\"view_18\"]}], \"title\": \"Weight by Height - Linear Regression\", \"width\": 500, \"$schema\": \"https://vega.github.io/schema/vega-lite/v5.20.1.json\", \"datasets\": {\"data-ee68dd45624308c7cdb8437ec63ac9f2\": [{\"height\": 178, \"weight\": 74, \"weight_prediction\": 78.511687028258}, {\"height\": 176, \"weight\": 74, \"weight_prediction\": 75.64055226937458}, {\"height\": 172, \"weight\": 67, \"weight_prediction\": 69.89828275160772}, {\"height\": 182, \"weight\": 85, \"weight_prediction\": 84.25395654602488}, {\"height\": 170, \"weight\": 66, \"weight_prediction\": 67.02714799272428}, {\"height\": 158, \"weight\": 48, \"weight_prediction\": 49.80033943942371}, {\"height\": 164, \"weight\": 61, \"weight_prediction\": 58.41374371607398}, {\"height\": 165, \"weight\": 66, \"weight_prediction\": 59.8493110955157}, {\"height\": 158, \"weight\": 50, \"weight_prediction\": 49.80033943942371}, {\"height\": 164, \"weight\": 56, \"weight_prediction\": 58.41374371607398}, {\"height\": 169, \"weight\": 67, \"weight_prediction\": 65.59158061328256}, {\"height\": 177, \"weight\": 72, \"weight_prediction\": 77.0761196488163}, {\"height\": 174, \"weight\": 78, \"weight_prediction\": 72.76941751049114}, {\"height\": 176, \"weight\": 76, \"weight_prediction\": 75.64055226937458}, {\"height\": 168, \"weight\": 63, \"weight_prediction\": 64.15601323384087}, {\"height\": 165, \"weight\": 60, \"weight_prediction\": 59.8493110955157}, {\"height\": 172, \"weight\": 68, \"weight_prediction\": 69.89828275160772}, {\"height\": 165, \"weight\": 63, \"weight_prediction\": 59.8493110955157}, {\"height\": 163, \"weight\": 55, \"weight_prediction\": 56.97817633663229}, {\"height\": 180, \"weight\": 80, \"weight_prediction\": 81.38282178714144}, {\"height\": 173, \"weight\": 71, \"weight_prediction\": 71.33385013104945}, {\"height\": 175, \"weight\": 75, \"weight_prediction\": 74.20498488993286}, {\"height\": 171, \"weight\": 70, \"weight_prediction\": 68.462715372166}, {\"height\": 176, \"weight\": 72, \"weight_prediction\": 75.64055226937458}, {\"height\": 159, \"weight\": 51, \"weight_prediction\": 51.2359068188654}]}}, {\"mode\": \"vega-lite\"});\n",
       "</script>"
      ],
      "text/plain": [
       "alt.LayerChart(...)"
      ]
     },
     "execution_count": 69,
     "metadata": {},
     "output_type": "execute_result"
    }
   ],
   "source": [
    "scatter = alt.Chart(test_df).mark_point(color='blue').encode(\n",
    "    x='height',\n",
    "    y='weight',\n",
    "    tooltip=['height', 'weight'],\n",
    ")\n",
    "\n",
    "line = alt.Chart(test_df).mark_line(color='red').encode(\n",
    "    x='height',\n",
    "    y=alt.Y('weight_prediction', title='Weight'),\n",
    "    tooltip=['height', 'weight_prediction']\n",
    ")\n",
    "\n",
    "chart = (scatter + line).properties(\n",
    "    width=500,\n",
    "    title='Weight by Height - Linear Regression',\n",
    "\n",
    ").interactive()\n",
    "chart"
   ]
  },
  {
   "cell_type": "markdown",
   "metadata": {},
   "source": [
    "### Test predict\n"
   ]
  },
  {
   "cell_type": "code",
   "execution_count": 73,
   "metadata": {},
   "outputs": [
    {
     "name": "stdout",
     "output_type": "stream",
     "text": [
      "Height = 178\n",
      "Prediction = 78.511687028258\n"
     ]
    },
    {
     "data": {
      "text/html": [
       "<div><style>\n",
       ".dataframe > thead > tr,\n",
       ".dataframe > tbody > tr {\n",
       "  text-align: right;\n",
       "  white-space: pre-wrap;\n",
       "}\n",
       "</style>\n",
       "<small>shape: (25, 3)</small><table border=\"1\" class=\"dataframe\"><thead><tr><th>height</th><th>weight</th><th>weight_prediction</th></tr><tr><td>i64</td><td>i64</td><td>f64</td></tr></thead><tbody><tr><td>178</td><td>74</td><td>78.511687</td></tr><tr><td>176</td><td>74</td><td>75.640552</td></tr><tr><td>172</td><td>67</td><td>69.898283</td></tr><tr><td>182</td><td>85</td><td>84.253957</td></tr><tr><td>170</td><td>66</td><td>67.027148</td></tr><tr><td>&hellip;</td><td>&hellip;</td><td>&hellip;</td></tr><tr><td>173</td><td>71</td><td>71.33385</td></tr><tr><td>175</td><td>75</td><td>74.204985</td></tr><tr><td>171</td><td>70</td><td>68.462715</td></tr><tr><td>176</td><td>72</td><td>75.640552</td></tr><tr><td>159</td><td>51</td><td>51.235907</td></tr></tbody></table></div>"
      ],
      "text/plain": [
       "shape: (25, 3)\n",
       "┌────────┬────────┬───────────────────┐\n",
       "│ height ┆ weight ┆ weight_prediction │\n",
       "│ ---    ┆ ---    ┆ ---               │\n",
       "│ i64    ┆ i64    ┆ f64               │\n",
       "╞════════╪════════╪═══════════════════╡\n",
       "│ 178    ┆ 74     ┆ 78.511687         │\n",
       "│ 176    ┆ 74     ┆ 75.640552         │\n",
       "│ 172    ┆ 67     ┆ 69.898283         │\n",
       "│ 182    ┆ 85     ┆ 84.253957         │\n",
       "│ 170    ┆ 66     ┆ 67.027148         │\n",
       "│ …      ┆ …      ┆ …                 │\n",
       "│ 173    ┆ 71     ┆ 71.33385          │\n",
       "│ 175    ┆ 75     ┆ 74.204985         │\n",
       "│ 171    ┆ 70     ┆ 68.462715         │\n",
       "│ 176    ┆ 72     ┆ 75.640552         │\n",
       "│ 159    ┆ 51     ┆ 51.235907         │\n",
       "└────────┴────────┴───────────────────┘"
      ]
     },
     "execution_count": 73,
     "metadata": {},
     "output_type": "execute_result"
    }
   ],
   "source": [
    "height = 178\n",
    "print(f'Height = {height}')\n",
    "print(f'Prediction = {slope * height + intercept}')\n",
    "test_df"
   ]
  }
 ],
 "metadata": {
  "kernelspec": {
   "display_name": ".venv",
   "language": "python",
   "name": "python3"
  },
  "language_info": {
   "codemirror_mode": {
    "name": "ipython",
    "version": 3
   },
   "file_extension": ".py",
   "mimetype": "text/x-python",
   "name": "python",
   "nbconvert_exporter": "python",
   "pygments_lexer": "ipython3",
   "version": "3.12.3"
  }
 },
 "nbformat": 4,
 "nbformat_minor": 2
}

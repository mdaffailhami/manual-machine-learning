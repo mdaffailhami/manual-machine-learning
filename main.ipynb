{
 "cells": [
  {
   "cell_type": "code",
   "execution_count": 152,
   "metadata": {},
   "outputs": [],
   "source": [
    "import polars as pl\n",
    "import altair as alt"
   ]
  },
  {
   "cell_type": "markdown",
   "metadata": {},
   "source": [
    "### Prepare dataset\n"
   ]
  },
  {
   "cell_type": "code",
   "execution_count": 153,
   "metadata": {},
   "outputs": [
    {
     "data": {
      "text/html": [
       "<div><style>\n",
       ".dataframe > thead > tr,\n",
       ".dataframe > tbody > tr {\n",
       "  text-align: right;\n",
       "  white-space: pre-wrap;\n",
       "}\n",
       "</style>\n",
       "<small>shape: (110, 2)</small><table border=\"1\" class=\"dataframe\"><thead><tr><th>height</th><th>weight</th></tr><tr><td>i64</td><td>i64</td></tr></thead><tbody><tr><td>155</td><td>48</td></tr><tr><td>157</td><td>45</td></tr><tr><td>157</td><td>50</td></tr><tr><td>158</td><td>50</td></tr><tr><td>158</td><td>48</td></tr><tr><td>&hellip;</td><td>&hellip;</td></tr><tr><td>180</td><td>81</td></tr><tr><td>180</td><td>86</td></tr><tr><td>182</td><td>85</td></tr><tr><td>182</td><td>88</td></tr><tr><td>182</td><td>85</td></tr></tbody></table></div>"
      ],
      "text/plain": [
       "shape: (110, 2)\n",
       "┌────────┬────────┐\n",
       "│ height ┆ weight │\n",
       "│ ---    ┆ ---    │\n",
       "│ i64    ┆ i64    │\n",
       "╞════════╪════════╡\n",
       "│ 155    ┆ 48     │\n",
       "│ 157    ┆ 45     │\n",
       "│ 157    ┆ 50     │\n",
       "│ 158    ┆ 50     │\n",
       "│ 158    ┆ 48     │\n",
       "│ …      ┆ …      │\n",
       "│ 180    ┆ 81     │\n",
       "│ 180    ┆ 86     │\n",
       "│ 182    ┆ 85     │\n",
       "│ 182    ┆ 88     │\n",
       "│ 182    ┆ 85     │\n",
       "└────────┴────────┘"
      ]
     },
     "execution_count": 153,
     "metadata": {},
     "output_type": "execute_result"
    }
   ],
   "source": [
    "data = [\n",
    "    (165, 60), (170, 65), (175, 75), (160, 50), (180, 80),\n",
    "    (172, 68), (178, 72), (155, 48), (168, 58), (177, 70),\n",
    "    (169, 64), (176, 78), (182, 85), (163, 55), (173, 69),\n",
    "    (171, 66), (159, 52), (174, 74), (167, 62), (179, 78),\n",
    "    (164, 57), (161, 53), (166, 59), (162, 54), (158, 50),\n",
    "    (174, 77), (168, 63), (177, 73), (165, 61), (172, 70),\n",
    "    (176, 76), (180, 82), (159, 49), (173, 67), (178, 74),\n",
    "    (182, 88), (170, 66), (175, 79), (169, 65), (160, 54),\n",
    "    (164, 56), (162, 52), (166, 60), (180, 83), (170, 68),\n",
    "    (157, 45), (161, 58), (175, 75), (171, 64), (177, 72),\n",
    "    (179, 81), (174, 78), (163, 59), (168, 62), (165, 66),\n",
    "    (164, 61), (172, 69), (176, 76), (158, 48), (169, 64),\n",
    "    (171, 70), (174, 74), (167, 65), (180, 82), (165, 63),\n",
    "    (178, 79), (159, 55), (162, 57), (169, 67), (173, 71),\n",
    "    (166, 60), (157, 50), (164, 62), (172, 74), (176, 77),\n",
    "    (180, 81), (161, 56), (175, 72), (170, 69), (178, 78),\n",
    "    (165, 64), (159, 52), (173, 70), (167, 63), (172, 67),\n",
    "    (180, 86), (176, 74), (164, 58), (170, 68), (167, 66),\n",
    "    (171, 65), (160, 53), (178, 82), (182, 85), (159, 51),\n",
    "    (163, 55), (166, 61), (165, 59), (176, 72), (171, 73),\n",
    "    (177, 77), (173, 68), (174, 76), (170, 66), (161, 58),\n",
    "    (162, 54), (168, 60), (164, 59), (177, 80), (175, 73)\n",
    "]\n",
    "\n",
    "df = pl.DataFrame(data, schema=['height', 'weight'],\n",
    "                  orient='row').sort(by='height')\n",
    "df"
   ]
  },
  {
   "cell_type": "markdown",
   "metadata": {},
   "source": [
    "### Calculate weight prediction\n"
   ]
  },
  {
   "cell_type": "code",
   "execution_count": 154,
   "metadata": {},
   "outputs": [
    {
     "data": {
      "text/html": [
       "<div><style>\n",
       ".dataframe > thead > tr,\n",
       ".dataframe > tbody > tr {\n",
       "  text-align: right;\n",
       "  white-space: pre-wrap;\n",
       "}\n",
       "</style>\n",
       "<small>shape: (110, 3)</small><table border=\"1\" class=\"dataframe\"><thead><tr><th>height</th><th>weight</th><th>weight_prediction</th></tr><tr><td>i64</td><td>i64</td><td>f64</td></tr></thead><tbody><tr><td>155</td><td>48</td><td>45.71602</td></tr><tr><td>157</td><td>45</td><td>48.546223</td></tr><tr><td>157</td><td>50</td><td>48.546223</td></tr><tr><td>158</td><td>50</td><td>49.961324</td></tr><tr><td>158</td><td>48</td><td>49.961324</td></tr><tr><td>&hellip;</td><td>&hellip;</td><td>&hellip;</td></tr><tr><td>180</td><td>81</td><td>81.093556</td></tr><tr><td>180</td><td>86</td><td>81.093556</td></tr><tr><td>182</td><td>85</td><td>83.923759</td></tr><tr><td>182</td><td>88</td><td>83.923759</td></tr><tr><td>182</td><td>85</td><td>83.923759</td></tr></tbody></table></div>"
      ],
      "text/plain": [
       "shape: (110, 3)\n",
       "┌────────┬────────┬───────────────────┐\n",
       "│ height ┆ weight ┆ weight_prediction │\n",
       "│ ---    ┆ ---    ┆ ---               │\n",
       "│ i64    ┆ i64    ┆ f64               │\n",
       "╞════════╪════════╪═══════════════════╡\n",
       "│ 155    ┆ 48     ┆ 45.71602          │\n",
       "│ 157    ┆ 45     ┆ 48.546223         │\n",
       "│ 157    ┆ 50     ┆ 48.546223         │\n",
       "│ 158    ┆ 50     ┆ 49.961324         │\n",
       "│ 158    ┆ 48     ┆ 49.961324         │\n",
       "│ …      ┆ …      ┆ …                 │\n",
       "│ 180    ┆ 81     ┆ 81.093556         │\n",
       "│ 180    ┆ 86     ┆ 81.093556         │\n",
       "│ 182    ┆ 85     ┆ 83.923759         │\n",
       "│ 182    ┆ 88     ┆ 83.923759         │\n",
       "│ 182    ┆ 85     ┆ 83.923759         │\n",
       "└────────┴────────┴───────────────────┘"
      ]
     },
     "execution_count": 154,
     "metadata": {},
     "output_type": "execute_result"
    }
   ],
   "source": [
    "height_mean = df['height'].mean()\n",
    "weight_mean = df['weight'].mean()\n",
    "\n",
    "numerator = ((df['height'] - height_mean) * (df['weight'] - weight_mean)).sum()\n",
    "denominator = ((df['height'] - height_mean) ** 2).sum()\n",
    "\n",
    "slope = numerator / denominator\n",
    "intercept = weight_mean - slope * height_mean\n",
    "\n",
    "df = df.with_columns([\n",
    "    (slope * pl.col('height') + intercept).alias('weight_prediction')\n",
    "])\n",
    "\n",
    "df"
   ]
  },
  {
   "cell_type": "markdown",
   "metadata": {},
   "source": [
    "### Visualize linear regression\n"
   ]
  },
  {
   "cell_type": "code",
   "execution_count": 155,
   "metadata": {},
   "outputs": [
    {
     "data": {
      "text/html": [
       "\n",
       "<style>\n",
       "  #altair-viz-630dc75255624e84b2f3866b30514599.vega-embed {\n",
       "    width: 100%;\n",
       "    display: flex;\n",
       "  }\n",
       "\n",
       "  #altair-viz-630dc75255624e84b2f3866b30514599.vega-embed details,\n",
       "  #altair-viz-630dc75255624e84b2f3866b30514599.vega-embed details summary {\n",
       "    position: relative;\n",
       "  }\n",
       "</style>\n",
       "<div id=\"altair-viz-630dc75255624e84b2f3866b30514599\"></div>\n",
       "<script type=\"text/javascript\">\n",
       "  var VEGA_DEBUG = (typeof VEGA_DEBUG == \"undefined\") ? {} : VEGA_DEBUG;\n",
       "  (function(spec, embedOpt){\n",
       "    let outputDiv = document.currentScript.previousElementSibling;\n",
       "    if (outputDiv.id !== \"altair-viz-630dc75255624e84b2f3866b30514599\") {\n",
       "      outputDiv = document.getElementById(\"altair-viz-630dc75255624e84b2f3866b30514599\");\n",
       "    }\n",
       "    const paths = {\n",
       "      \"vega\": \"https://cdn.jsdelivr.net/npm/vega@5?noext\",\n",
       "      \"vega-lib\": \"https://cdn.jsdelivr.net/npm/vega-lib?noext\",\n",
       "      \"vega-lite\": \"https://cdn.jsdelivr.net/npm/vega-lite@5.20.1?noext\",\n",
       "      \"vega-embed\": \"https://cdn.jsdelivr.net/npm/vega-embed@6?noext\",\n",
       "    };\n",
       "\n",
       "    function maybeLoadScript(lib, version) {\n",
       "      var key = `${lib.replace(\"-\", \"\")}_version`;\n",
       "      return (VEGA_DEBUG[key] == version) ?\n",
       "        Promise.resolve(paths[lib]) :\n",
       "        new Promise(function(resolve, reject) {\n",
       "          var s = document.createElement('script');\n",
       "          document.getElementsByTagName(\"head\")[0].appendChild(s);\n",
       "          s.async = true;\n",
       "          s.onload = () => {\n",
       "            VEGA_DEBUG[key] = version;\n",
       "            return resolve(paths[lib]);\n",
       "          };\n",
       "          s.onerror = () => reject(`Error loading script: ${paths[lib]}`);\n",
       "          s.src = paths[lib];\n",
       "        });\n",
       "    }\n",
       "\n",
       "    function showError(err) {\n",
       "      outputDiv.innerHTML = `<div class=\"error\" style=\"color:red;\">${err}</div>`;\n",
       "      throw err;\n",
       "    }\n",
       "\n",
       "    function displayChart(vegaEmbed) {\n",
       "      vegaEmbed(outputDiv, spec, embedOpt)\n",
       "        .catch(err => showError(`Javascript Error: ${err.message}<br>This usually means there's a typo in your chart specification. See the javascript console for the full traceback.`));\n",
       "    }\n",
       "\n",
       "    if(typeof define === \"function\" && define.amd) {\n",
       "      requirejs.config({paths});\n",
       "      require([\"vega-embed\"], displayChart, err => showError(`Error loading script: ${err.message}`));\n",
       "    } else {\n",
       "      maybeLoadScript(\"vega\", \"5\")\n",
       "        .then(() => maybeLoadScript(\"vega-lite\", \"5.20.1\"))\n",
       "        .then(() => maybeLoadScript(\"vega-embed\", \"6\"))\n",
       "        .catch(showError)\n",
       "        .then(() => displayChart(vegaEmbed));\n",
       "    }\n",
       "  })({\"config\": {\"view\": {\"continuousWidth\": 300, \"continuousHeight\": 300}}, \"layer\": [{\"mark\": {\"type\": \"point\", \"color\": \"blue\"}, \"encoding\": {\"tooltip\": [{\"field\": \"height\", \"type\": \"quantitative\"}, {\"field\": \"weight\", \"type\": \"quantitative\"}], \"x\": {\"field\": \"height\", \"type\": \"quantitative\"}, \"y\": {\"field\": \"weight\", \"type\": \"quantitative\"}}, \"name\": \"view_46\"}, {\"mark\": {\"type\": \"line\", \"color\": \"red\"}, \"encoding\": {\"tooltip\": [{\"field\": \"height\", \"type\": \"quantitative\"}, {\"field\": \"weight_prediction\", \"type\": \"quantitative\"}], \"x\": {\"field\": \"height\", \"type\": \"quantitative\"}, \"y\": {\"field\": \"weight_prediction\", \"title\": \"Weight\", \"type\": \"quantitative\"}}}], \"data\": {\"name\": \"data-af6d528a0fe766d8bd13d9f0f9eee6fa\"}, \"params\": [{\"name\": \"param_70\", \"select\": {\"type\": \"interval\", \"encodings\": [\"x\", \"y\"]}, \"bind\": \"scales\", \"views\": [\"view_46\"]}], \"title\": \"Weight by Height - Linear Regression\", \"width\": 500, \"$schema\": \"https://vega.github.io/schema/vega-lite/v5.20.1.json\", \"datasets\": {\"data-af6d528a0fe766d8bd13d9f0f9eee6fa\": [{\"height\": 155, \"weight\": 48, \"weight_prediction\": 45.71602003268856}, {\"height\": 157, \"weight\": 45, \"weight_prediction\": 48.546222894251486}, {\"height\": 157, \"weight\": 50, \"weight_prediction\": 48.546222894251486}, {\"height\": 158, \"weight\": 50, \"weight_prediction\": 49.96132432503296}, {\"height\": 158, \"weight\": 48, \"weight_prediction\": 49.96132432503296}, {\"height\": 159, \"weight\": 52, \"weight_prediction\": 51.37642575581444}, {\"height\": 159, \"weight\": 49, \"weight_prediction\": 51.37642575581444}, {\"height\": 159, \"weight\": 55, \"weight_prediction\": 51.37642575581444}, {\"height\": 159, \"weight\": 52, \"weight_prediction\": 51.37642575581444}, {\"height\": 159, \"weight\": 51, \"weight_prediction\": 51.37642575581444}, {\"height\": 160, \"weight\": 50, \"weight_prediction\": 52.791527186595886}, {\"height\": 160, \"weight\": 54, \"weight_prediction\": 52.791527186595886}, {\"height\": 160, \"weight\": 53, \"weight_prediction\": 52.791527186595886}, {\"height\": 161, \"weight\": 53, \"weight_prediction\": 54.20662861737736}, {\"height\": 161, \"weight\": 58, \"weight_prediction\": 54.20662861737736}, {\"height\": 161, \"weight\": 56, \"weight_prediction\": 54.20662861737736}, {\"height\": 161, \"weight\": 58, \"weight_prediction\": 54.20662861737736}, {\"height\": 162, \"weight\": 54, \"weight_prediction\": 55.62173004815884}, {\"height\": 162, \"weight\": 52, \"weight_prediction\": 55.62173004815884}, {\"height\": 162, \"weight\": 57, \"weight_prediction\": 55.62173004815884}, {\"height\": 162, \"weight\": 54, \"weight_prediction\": 55.62173004815884}, {\"height\": 163, \"weight\": 55, \"weight_prediction\": 57.036831478940314}, {\"height\": 163, \"weight\": 59, \"weight_prediction\": 57.036831478940314}, {\"height\": 163, \"weight\": 55, \"weight_prediction\": 57.036831478940314}, {\"height\": 164, \"weight\": 57, \"weight_prediction\": 58.45193290972176}, {\"height\": 164, \"weight\": 56, \"weight_prediction\": 58.45193290972176}, {\"height\": 164, \"weight\": 61, \"weight_prediction\": 58.45193290972176}, {\"height\": 164, \"weight\": 62, \"weight_prediction\": 58.45193290972176}, {\"height\": 164, \"weight\": 58, \"weight_prediction\": 58.45193290972176}, {\"height\": 164, \"weight\": 59, \"weight_prediction\": 58.45193290972176}, {\"height\": 165, \"weight\": 60, \"weight_prediction\": 59.86703434050324}, {\"height\": 165, \"weight\": 61, \"weight_prediction\": 59.86703434050324}, {\"height\": 165, \"weight\": 66, \"weight_prediction\": 59.86703434050324}, {\"height\": 165, \"weight\": 63, \"weight_prediction\": 59.86703434050324}, {\"height\": 165, \"weight\": 64, \"weight_prediction\": 59.86703434050324}, {\"height\": 165, \"weight\": 59, \"weight_prediction\": 59.86703434050324}, {\"height\": 166, \"weight\": 59, \"weight_prediction\": 61.282135771284715}, {\"height\": 166, \"weight\": 60, \"weight_prediction\": 61.282135771284715}, {\"height\": 166, \"weight\": 60, \"weight_prediction\": 61.282135771284715}, {\"height\": 166, \"weight\": 61, \"weight_prediction\": 61.282135771284715}, {\"height\": 167, \"weight\": 62, \"weight_prediction\": 62.69723720206616}, {\"height\": 167, \"weight\": 65, \"weight_prediction\": 62.69723720206616}, {\"height\": 167, \"weight\": 63, \"weight_prediction\": 62.69723720206616}, {\"height\": 167, \"weight\": 66, \"weight_prediction\": 62.69723720206616}, {\"height\": 168, \"weight\": 58, \"weight_prediction\": 64.11233863284764}, {\"height\": 168, \"weight\": 63, \"weight_prediction\": 64.11233863284764}, {\"height\": 168, \"weight\": 62, \"weight_prediction\": 64.11233863284764}, {\"height\": 168, \"weight\": 60, \"weight_prediction\": 64.11233863284764}, {\"height\": 169, \"weight\": 64, \"weight_prediction\": 65.52744006362911}, {\"height\": 169, \"weight\": 65, \"weight_prediction\": 65.52744006362911}, {\"height\": 169, \"weight\": 64, \"weight_prediction\": 65.52744006362911}, {\"height\": 169, \"weight\": 67, \"weight_prediction\": 65.52744006362911}, {\"height\": 170, \"weight\": 65, \"weight_prediction\": 66.94254149441059}, {\"height\": 170, \"weight\": 66, \"weight_prediction\": 66.94254149441059}, {\"height\": 170, \"weight\": 68, \"weight_prediction\": 66.94254149441059}, {\"height\": 170, \"weight\": 69, \"weight_prediction\": 66.94254149441059}, {\"height\": 170, \"weight\": 68, \"weight_prediction\": 66.94254149441059}, {\"height\": 170, \"weight\": 66, \"weight_prediction\": 66.94254149441059}, {\"height\": 171, \"weight\": 66, \"weight_prediction\": 68.35764292519204}, {\"height\": 171, \"weight\": 64, \"weight_prediction\": 68.35764292519204}, {\"height\": 171, \"weight\": 70, \"weight_prediction\": 68.35764292519204}, {\"height\": 171, \"weight\": 65, \"weight_prediction\": 68.35764292519204}, {\"height\": 171, \"weight\": 73, \"weight_prediction\": 68.35764292519204}, {\"height\": 172, \"weight\": 68, \"weight_prediction\": 69.77274435597351}, {\"height\": 172, \"weight\": 70, \"weight_prediction\": 69.77274435597351}, {\"height\": 172, \"weight\": 69, \"weight_prediction\": 69.77274435597351}, {\"height\": 172, \"weight\": 74, \"weight_prediction\": 69.77274435597351}, {\"height\": 172, \"weight\": 67, \"weight_prediction\": 69.77274435597351}, {\"height\": 173, \"weight\": 69, \"weight_prediction\": 71.18784578675499}, {\"height\": 173, \"weight\": 67, \"weight_prediction\": 71.18784578675499}, {\"height\": 173, \"weight\": 71, \"weight_prediction\": 71.18784578675499}, {\"height\": 173, \"weight\": 70, \"weight_prediction\": 71.18784578675499}, {\"height\": 173, \"weight\": 68, \"weight_prediction\": 71.18784578675499}, {\"height\": 174, \"weight\": 74, \"weight_prediction\": 72.60294721753644}, {\"height\": 174, \"weight\": 77, \"weight_prediction\": 72.60294721753644}, {\"height\": 174, \"weight\": 78, \"weight_prediction\": 72.60294721753644}, {\"height\": 174, \"weight\": 74, \"weight_prediction\": 72.60294721753644}, {\"height\": 174, \"weight\": 76, \"weight_prediction\": 72.60294721753644}, {\"height\": 175, \"weight\": 75, \"weight_prediction\": 74.01804864831792}, {\"height\": 175, \"weight\": 79, \"weight_prediction\": 74.01804864831792}, {\"height\": 175, \"weight\": 75, \"weight_prediction\": 74.01804864831792}, {\"height\": 175, \"weight\": 72, \"weight_prediction\": 74.01804864831792}, {\"height\": 175, \"weight\": 73, \"weight_prediction\": 74.01804864831792}, {\"height\": 176, \"weight\": 78, \"weight_prediction\": 75.43315007909939}, {\"height\": 176, \"weight\": 76, \"weight_prediction\": 75.43315007909939}, {\"height\": 176, \"weight\": 76, \"weight_prediction\": 75.43315007909939}, {\"height\": 176, \"weight\": 77, \"weight_prediction\": 75.43315007909939}, {\"height\": 176, \"weight\": 74, \"weight_prediction\": 75.43315007909939}, {\"height\": 176, \"weight\": 72, \"weight_prediction\": 75.43315007909939}, {\"height\": 177, \"weight\": 70, \"weight_prediction\": 76.84825150988084}, {\"height\": 177, \"weight\": 73, \"weight_prediction\": 76.84825150988084}, {\"height\": 177, \"weight\": 72, \"weight_prediction\": 76.84825150988084}, {\"height\": 177, \"weight\": 77, \"weight_prediction\": 76.84825150988084}, {\"height\": 177, \"weight\": 80, \"weight_prediction\": 76.84825150988084}, {\"height\": 178, \"weight\": 72, \"weight_prediction\": 78.26335294066232}, {\"height\": 178, \"weight\": 74, \"weight_prediction\": 78.26335294066232}, {\"height\": 178, \"weight\": 79, \"weight_prediction\": 78.26335294066232}, {\"height\": 178, \"weight\": 78, \"weight_prediction\": 78.26335294066232}, {\"height\": 178, \"weight\": 82, \"weight_prediction\": 78.26335294066232}, {\"height\": 179, \"weight\": 78, \"weight_prediction\": 79.67845437144379}, {\"height\": 179, \"weight\": 81, \"weight_prediction\": 79.67845437144379}, {\"height\": 180, \"weight\": 80, \"weight_prediction\": 81.09355580222527}, {\"height\": 180, \"weight\": 82, \"weight_prediction\": 81.09355580222527}, {\"height\": 180, \"weight\": 83, \"weight_prediction\": 81.09355580222527}, {\"height\": 180, \"weight\": 82, \"weight_prediction\": 81.09355580222527}, {\"height\": 180, \"weight\": 81, \"weight_prediction\": 81.09355580222527}, {\"height\": 180, \"weight\": 86, \"weight_prediction\": 81.09355580222527}, {\"height\": 182, \"weight\": 85, \"weight_prediction\": 83.92375866378819}, {\"height\": 182, \"weight\": 88, \"weight_prediction\": 83.92375866378819}, {\"height\": 182, \"weight\": 85, \"weight_prediction\": 83.92375866378819}]}}, {\"mode\": \"vega-lite\"});\n",
       "</script>"
      ],
      "text/plain": [
       "alt.LayerChart(...)"
      ]
     },
     "execution_count": 155,
     "metadata": {},
     "output_type": "execute_result"
    }
   ],
   "source": [
    "scatter = alt.Chart(df).mark_point(color='blue').encode(\n",
    "    x='height',\n",
    "    y='weight',\n",
    "    tooltip=['height', 'weight'],\n",
    ")\n",
    "\n",
    "line = alt.Chart(df).mark_line(color='red').encode(\n",
    "    x='height',\n",
    "    y=alt.Y('weight_prediction', title='Weight'),\n",
    "    tooltip=['height', 'weight_prediction']\n",
    ")\n",
    "\n",
    "chart = (scatter + line).properties(\n",
    "    width=500,\n",
    "    title='Weight by Height - Linear Regression',\n",
    "\n",
    ").interactive()\n",
    "chart"
   ]
  },
  {
   "cell_type": "markdown",
   "metadata": {},
   "source": [
    "### Test predict\n"
   ]
  },
  {
   "cell_type": "code",
   "execution_count": 156,
   "metadata": {},
   "outputs": [
    {
     "name": "stdout",
     "output_type": "stream",
     "text": [
      "Height = 155\n",
      "Prediction = 45.71602003268856\n"
     ]
    },
    {
     "data": {
      "text/html": [
       "<div><style>\n",
       ".dataframe > thead > tr,\n",
       ".dataframe > tbody > tr {\n",
       "  text-align: right;\n",
       "  white-space: pre-wrap;\n",
       "}\n",
       "</style>\n",
       "<small>shape: (110, 3)</small><table border=\"1\" class=\"dataframe\"><thead><tr><th>height</th><th>weight</th><th>weight_prediction</th></tr><tr><td>i64</td><td>i64</td><td>f64</td></tr></thead><tbody><tr><td>155</td><td>48</td><td>45.71602</td></tr><tr><td>157</td><td>45</td><td>48.546223</td></tr><tr><td>157</td><td>50</td><td>48.546223</td></tr><tr><td>158</td><td>50</td><td>49.961324</td></tr><tr><td>158</td><td>48</td><td>49.961324</td></tr><tr><td>&hellip;</td><td>&hellip;</td><td>&hellip;</td></tr><tr><td>180</td><td>81</td><td>81.093556</td></tr><tr><td>180</td><td>86</td><td>81.093556</td></tr><tr><td>182</td><td>85</td><td>83.923759</td></tr><tr><td>182</td><td>88</td><td>83.923759</td></tr><tr><td>182</td><td>85</td><td>83.923759</td></tr></tbody></table></div>"
      ],
      "text/plain": [
       "shape: (110, 3)\n",
       "┌────────┬────────┬───────────────────┐\n",
       "│ height ┆ weight ┆ weight_prediction │\n",
       "│ ---    ┆ ---    ┆ ---               │\n",
       "│ i64    ┆ i64    ┆ f64               │\n",
       "╞════════╪════════╪═══════════════════╡\n",
       "│ 155    ┆ 48     ┆ 45.71602          │\n",
       "│ 157    ┆ 45     ┆ 48.546223         │\n",
       "│ 157    ┆ 50     ┆ 48.546223         │\n",
       "│ 158    ┆ 50     ┆ 49.961324         │\n",
       "│ 158    ┆ 48     ┆ 49.961324         │\n",
       "│ …      ┆ …      ┆ …                 │\n",
       "│ 180    ┆ 81     ┆ 81.093556         │\n",
       "│ 180    ┆ 86     ┆ 81.093556         │\n",
       "│ 182    ┆ 85     ┆ 83.923759         │\n",
       "│ 182    ┆ 88     ┆ 83.923759         │\n",
       "│ 182    ┆ 85     ┆ 83.923759         │\n",
       "└────────┴────────┴───────────────────┘"
      ]
     },
     "execution_count": 156,
     "metadata": {},
     "output_type": "execute_result"
    }
   ],
   "source": [
    "height = 155\n",
    "print(f'Height = {height}')\n",
    "print(f'Prediction = {slope * height + intercept}')\n",
    "\n",
    "df"
   ]
  }
 ],
 "metadata": {
  "kernelspec": {
   "display_name": ".venv",
   "language": "python",
   "name": "python3"
  },
  "language_info": {
   "codemirror_mode": {
    "name": "ipython",
    "version": 3
   },
   "file_extension": ".py",
   "mimetype": "text/x-python",
   "name": "python",
   "nbconvert_exporter": "python",
   "pygments_lexer": "ipython3",
   "version": "3.12.3"
  }
 },
 "nbformat": 4,
 "nbformat_minor": 2
}
